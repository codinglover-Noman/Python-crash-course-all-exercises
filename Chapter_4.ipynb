{
  "nbformat": 4,
  "nbformat_minor": 0,
  "metadata": {
    "colab": {
      "provenance": []
    },
    "kernelspec": {
      "name": "python3",
      "display_name": "Python 3"
    },
    "language_info": {
      "name": "python"
    }
  },
  "cells": [
    {
      "cell_type": "markdown",
      "source": [
        "# Exercise_1: Alien Colors #1\n",
        "Imagine an alien was just shot down in a game. Create a variable called alien_color and assign it a value of 'green', 'yellow', or 'red'.\n",
        "\n",
        "Write an if statement to test whether the alien’s color is green. If it is, print a message that the player just earned 5 points.\n",
        "\n",
        "Write one version of this program that passes the if test and another tha fails. (The version that fails will have no output.)"
      ],
      "metadata": {
        "id": "AU4RR8AMdPrr"
      }
    },
    {
      "cell_type": "code",
      "source": [
        "alien_color = ['green','yellow','red']\n",
        "for color in alien_color:\n",
        "  if color == 'green':\n",
        "    print(\"The player just earned 5 points\")\n",
        ""
      ],
      "metadata": {
        "colab": {
          "base_uri": "https://localhost:8080/"
        },
        "id": "Mx-Rzo-1fakF",
        "outputId": "d83665e5-60c7-4fb5-d2cc-f2490697f4b2"
      },
      "execution_count": 6,
      "outputs": [
        {
          "output_type": "stream",
          "name": "stdout",
          "text": [
            "The player just earned 5 points\n"
          ]
        }
      ]
    },
    {
      "cell_type": "code",
      "source": [
        "# # failing version\n",
        "alien_color = 'Red'\n",
        "if alien_color == 'green':\n",
        "  print(\"The Player just earned 5 points\")"
      ],
      "metadata": {
        "id": "S75ebhy0hGrp"
      },
      "execution_count": 7,
      "outputs": []
    },
    {
      "cell_type": "markdown",
      "source": [
        "# Exercise_02: Alien Colors #2\n",
        "Choose a color for an alien as you did in Exercise 5-3, and write an if-else chain.\n",
        "\n",
        "If the alien’s color is green, print a statement that the player just earned 5 points for shooting the alien.\n",
        "If the alien’s color isn’t green, print a statement that the player just earned 10 points.\n",
        "Write one version of this program that runs the if block and another that runs the else block.\n",
        "if block runs:"
      ],
      "metadata": {
        "id": "lp78GX0JdWqh"
      }
    },
    {
      "cell_type": "code",
      "source": [
        "alien_color = 'purple'\n",
        "\n",
        "if alien_color == 'green':\n",
        "  print(\"the player just earned 5 points for shooting the alien.\")\n",
        "else:\n",
        "  print(\"the player just earned 10 points \")"
      ],
      "metadata": {
        "colab": {
          "base_uri": "https://localhost:8080/"
        },
        "id": "xMBixb-aiOho",
        "outputId": "95038c08-2ac6-4199-d884-540085bbc3f8"
      },
      "execution_count": 8,
      "outputs": [
        {
          "output_type": "stream",
          "name": "stdout",
          "text": [
            "the player just earned 10 points \n"
          ]
        }
      ]
    },
    {
      "cell_type": "markdown",
      "source": [
        "# Exercise_03: Alien Colors #3\n",
        "Turn your if-else chain from Exercise 5-4 into an if-elif-else cahin.\n",
        "\n",
        "If the alien is green, print a message that the player earned 5 points.\n",
        "If the alien is yellow, print a message that the player earned 10 points.\n",
        "If the alien is red, print a message that the player earned 15 points.\n",
        "Write three versions of this program, making sure each message is printed for the appropriate color alien."
      ],
      "metadata": {
        "id": "EU1VvyEmdh3Z"
      }
    },
    {
      "cell_type": "code",
      "source": [
        "alien_color = 'green'\n",
        "# If the alien is green, print a message that the player earned 5 points\n",
        "if alien_color == 'green':\n",
        "  print(\"The Player earned 5 points\")\n",
        "elif alien_color == 'yellow':\n",
        "  print(\"The player earned 10 points\")\n",
        "elif alien_color == 'red':\n",
        "  print(\"The player earned 15 points\")\n",
        "else:\n",
        "  print(\"The player nothing earned this time\")\n"
      ],
      "metadata": {
        "colab": {
          "base_uri": "https://localhost:8080/"
        },
        "id": "FRzp7wJZi77r",
        "outputId": "24c9fd5e-f1f2-4e1f-9ee7-106d6888fbbf"
      },
      "execution_count": 9,
      "outputs": [
        {
          "output_type": "stream",
          "name": "stdout",
          "text": [
            "The Player earned 5 points\n"
          ]
        }
      ]
    },
    {
      "cell_type": "markdown",
      "source": [
        "# Exercise_04: Stages of Life\n",
        "Write an if-elif-else cahin that determines a person’s stage of life. Set a value for the variable age, and then:\n",
        "\n",
        "If the person is less than 2 years old, print a message that the person is a baby.\n",
        "If the person is at least 2 years old but less than 4, print a message that the person is a toddler.\n",
        "If the person is at least 4 years old but less than 13, print a message that the person is a toddler.\n",
        "If the person is at least 13 years old but less than 20, print a message that the person is a toddler.\n",
        "If the person is at least 20 years old but less than 65, print a message that the person is a toddler.\n",
        "If the person is age 65 or older, print a message that the person is an elder."
      ],
      "metadata": {
        "id": "IQZfwTkBdnsz"
      }
    },
    {
      "cell_type": "code",
      "source": [
        "# Set the age\n",
        "age = 25\n",
        "\n",
        "# Determine the stage of life\n",
        "if age < 2:\n",
        "    print(\"The person is a baby.\")\n",
        "elif age < 4:\n",
        "    print(\"The person is a toddler.\")\n",
        "elif age < 13:\n",
        "    print(\"The person is a kid.\")\n",
        "elif age < 20:\n",
        "    print(\"The person is a teenager.\")\n",
        "elif age < 65:\n",
        "    print(\"The person is an adult.\")\n",
        "else:\n",
        "    print(\"The person is an elder.\")\n"
      ],
      "metadata": {
        "colab": {
          "base_uri": "https://localhost:8080/"
        },
        "id": "dI1RcThEj2tZ",
        "outputId": "a80cade6-31fc-4260-f55c-ce9d5b868adc"
      },
      "execution_count": 10,
      "outputs": [
        {
          "output_type": "stream",
          "name": "stdout",
          "text": [
            "The person is an adult.\n"
          ]
        }
      ]
    },
    {
      "cell_type": "markdown",
      "source": [
        "# Exercise_05: Favorite Fruit\n",
        "Make a list of your favorite fruits, and then write a series of independent if statements that check for certain fruits in your list.\n",
        "\n",
        "Make a list of your three favorite fruits and call it favorite_fruits.\n",
        "Write five if statements. Each should check whether a certain kind of fruit is in your list. If the fruit is in your list, the if block should print a statement, such as You really like bananas!"
      ],
      "metadata": {
        "id": "xiPJsT41dt7D"
      }
    },
    {
      "cell_type": "code",
      "source": [
        "# Create a list of your favorite fruits\n",
        "favorite_fruits = ['banana', 'apple', 'mango']\n",
        "\n",
        "# Check for specific fruits using independent if statements\n",
        "if 'banana' in favorite_fruits:\n",
        "    print(\"You really like bananas!\")\n",
        "\n",
        "if 'apple' in favorite_fruits:\n",
        "    print(\"You really like apples!\")\n",
        "\n",
        "if 'mango' in favorite_fruits:\n",
        "    print(\"You really like mangoes!\")\n",
        "\n",
        "if 'orange' in favorite_fruits:\n",
        "    print(\"You really like oranges!\")\n",
        "\n",
        "if 'grape' in favorite_fruits:\n",
        "    print(\"You really like grapes!\")\n",
        "\n"
      ],
      "metadata": {
        "colab": {
          "base_uri": "https://localhost:8080/"
        },
        "id": "zVoTdcnIkr8O",
        "outputId": "6f6a9b89-9c30-4400-cf76-dd35c2e420bb"
      },
      "execution_count": 11,
      "outputs": [
        {
          "output_type": "stream",
          "name": "stdout",
          "text": [
            "You really like bananas!\n",
            "You really like apples!\n",
            "You really like mangoes!\n"
          ]
        }
      ]
    },
    {
      "cell_type": "markdown",
      "source": [
        "# Exercise_06: Hello Admin\n",
        "Make a list of five or more usernnames, including the name 'admin'. Imagine you are writing code that will print a greeting to each user after they log in to a website. Loop through the list, and print a greeting to each user:\n",
        "\n",
        "If the username is 'admin', print a special greeting, such as Hello admin, would you like to see a status report?\n",
        "Otherwise, print a generic greeting, such as Hello Eric, thank you for loggin in again."
      ],
      "metadata": {
        "id": "Q9wxnvn4dzdj"
      }
    },
    {
      "cell_type": "code",
      "source": [
        "# make a list of five or more usernames\n",
        "usernames = ['Jefferson','admin','Rabbi','Max','Deeepika','John']\n",
        "# print a greeting to each user after they log in to a website\n",
        "for user in usernames:\n",
        "  if user == 'admin':\n",
        "    print(\"Hello admin, would you like to see a status report?\")\n",
        "  else:\n",
        "    print(f\"Hello {user}, thank you for logging in again.\")"
      ],
      "metadata": {
        "colab": {
          "base_uri": "https://localhost:8080/"
        },
        "id": "NmxEDGcglI_Z",
        "outputId": "8f253389-2dba-4085-80dd-eefa8c7883df"
      },
      "execution_count": 14,
      "outputs": [
        {
          "output_type": "stream",
          "name": "stdout",
          "text": [
            "Hello Jefferson, thank you for logging in again.\n",
            "Hello admin, would you like to see a status report?\n",
            "Hello Rabbi, thank you for logging in again.\n",
            "Hello Max, thank you for logging in again.\n",
            "Hello Deeepika, thank you for logging in again.\n",
            "Hello John, thank you for logging in again.\n"
          ]
        }
      ]
    },
    {
      "cell_type": "markdown",
      "source": [
        "# Exercise_07: No Users\n",
        "Add an if test to hello_admin.py to make sure the list of users is not empty.\n",
        "\n",
        "If the list is emtpy, print the message We need to find some users!\n",
        "Remove all of the usernames from your list, and make sure the correct message is printed."
      ],
      "metadata": {
        "id": "vQ2y-lMod60c"
      }
    },
    {
      "cell_type": "code",
      "source": [
        "# Make a list of five or more usernames\n",
        "usernames = ['Jefferson', 'admin', 'Rabbi', 'Max', 'Deeepika', 'John']\n",
        "\n",
        "# Loop through the list and print a greeting to each user\n",
        "for user in usernames:\n",
        "    if user == 'admin':\n",
        "        print(\"Hello admin, would you like to see a status report?\")\n",
        "    else:\n",
        "        print(f\"Hello {user}, thank you for logging in again.\")\n",
        "\n",
        "# Delete the list after printing the greetings\n",
        "del usernames\n",
        "\n",
        "print(\"\\n\")\n",
        "# Check if the list is empty (this will raise an error because the list is deleted)\n",
        "try:\n",
        "    if not usernames:\n",
        "        print(\"We need to find some users!\")\n",
        "    else:\n",
        "        print(\"Please login all the users to the website\")\n",
        "except NameError:\n",
        "    print(\"We need to find some users!\")\n"
      ],
      "metadata": {
        "colab": {
          "base_uri": "https://localhost:8080/"
        },
        "id": "CFGjZQkjmpbC",
        "outputId": "fb5ac816-eeb5-44de-ff14-e2df0dc7d7b3"
      },
      "execution_count": 23,
      "outputs": [
        {
          "output_type": "stream",
          "name": "stdout",
          "text": [
            "Hello Jefferson, thank you for logging in again.\n",
            "Hello admin, would you like to see a status report?\n",
            "Hello Rabbi, thank you for logging in again.\n",
            "Hello Max, thank you for logging in again.\n",
            "Hello Deeepika, thank you for logging in again.\n",
            "Hello John, thank you for logging in again.\n",
            "\n",
            "\n",
            "We need to find some users!\n"
          ]
        }
      ]
    },
    {
      "cell_type": "markdown",
      "source": [
        "# Exercise_08: Checking Usernames\n",
        "Do the following to create a program that simulates how websites ensure that everyone has a unique username.\n",
        "\n",
        "Make a list of five or more usernames called current_users. Make another list of five usernames called new_users. Make sure one or two of the new usernames are also in the current_users list.\n",
        "Loop through the new_users list to see if each new username has already been used. If it has, print a message that the person will need to enter a new username. If a username has not been used, print a message saying that the username is available.\n",
        "Make sure your comparison is case insensitive. If 'John' has been used, 'JOHN' should not be accepted."
      ],
      "metadata": {
        "id": "5M83eZ1Bd_-U"
      }
    },
    {
      "cell_type": "code",
      "source": [
        "# Make a list of five or more usernames called current_users\n",
        "current_users = ['Jefferson', 'admin', 'Rabbi', 'Max', 'Deeepika', 'John']\n",
        "\n",
        "# Make another list of five usernames called new_users.\n",
        "# Make sure one or two of the new usernames are also in the current_users list\n",
        "new_users = ['June', 'Papiya', 'Rabbi', 'Bisu', 'Porli']\n",
        "\n",
        "# Loop through the new_users list to see if each new username has already been used\n",
        "for user in new_users:\n",
        "    if user.lower() in [current_user.lower() for current_user in current_users]:\n",
        "        print(f\"{user} will need to enter a new username\")  # If it has, print a message that the person will need to enter a new username.\n",
        "    else:\n",
        "        print(f\"The username {user} is available\")  # If not, print a message saying the username is available.\n"
      ],
      "metadata": {
        "colab": {
          "base_uri": "https://localhost:8080/"
        },
        "id": "toIhKIoVpthE",
        "outputId": "a9d47e9b-ee81-454f-c7db-d35c7344be51"
      },
      "execution_count": 26,
      "outputs": [
        {
          "output_type": "stream",
          "name": "stdout",
          "text": [
            "The username June is available\n",
            "The username Papiya is available\n",
            "Rabbi will need to enter a new username\n",
            "The username Bisu is available\n",
            "The username Porli is available\n"
          ]
        }
      ]
    },
    {
      "cell_type": "markdown",
      "source": [
        "# Exercise_09: Ordinal Numbers\n",
        "Ordinal numbers indicate their position in a list, such as 1st or 2nd. Most ordinal numbers end in th, except 1, 2, and 3.\n",
        "\n",
        "Store the numbers 1 through 9 in a list.\n",
        "Loop through the list.\n",
        "Use an if-elif-else chain inside the loop to print the proper ordinal ending for each number. Your output should read \"1st 2nd 3rd 4th 5th 6th 7th 8th 9th\", and each result should be on a separate line."
      ],
      "metadata": {
        "id": "KJ38wutdeFS-"
      }
    },
    {
      "cell_type": "code",
      "source": [
        "# Store numbers 1 through 9 in a list\n",
        "store_numbers = [1, 2, 3, 4, 5, 6, 7, 8, 9]\n",
        "\n",
        "# Loop through the list\n",
        "for number in store_numbers:\n",
        "    if number == 1:\n",
        "        print(f\"{number}st\")\n",
        "    elif number == 2:\n",
        "        print(f\"{number}nd\")\n",
        "    elif number == 3:\n",
        "        print(f\"{number}rd\")\n",
        "    else:\n",
        "        print(f\"{number}th\")\n"
      ],
      "metadata": {
        "colab": {
          "base_uri": "https://localhost:8080/"
        },
        "id": "07rAeCzwr4yR",
        "outputId": "a3e00d3d-4abd-4408-c5dc-00415b5e5e09"
      },
      "execution_count": 27,
      "outputs": [
        {
          "output_type": "stream",
          "name": "stdout",
          "text": [
            "1st\n",
            "2nd\n",
            "3rd\n",
            "4th\n",
            "5th\n",
            "6th\n",
            "7th\n",
            "8th\n",
            "9th\n"
          ]
        }
      ]
    },
    {
      "cell_type": "markdown",
      "source": [],
      "metadata": {
        "id": "uIQXgJpDeLW2"
      }
    }
  ]
}