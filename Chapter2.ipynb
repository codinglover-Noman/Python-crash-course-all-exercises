{
  "nbformat": 4,
  "nbformat_minor": 0,
  "metadata": {
    "colab": {
      "provenance": []
    },
    "kernelspec": {
      "name": "python3",
      "display_name": "Python 3"
    },
    "language_info": {
      "name": "python"
    }
  },
  "cells": [
    {
      "cell_type": "markdown",
      "source": [
        "# Exercise_01: Names\n",
        "Store the names of a few of your friends in a list called names. Print each person’s name by accessing each element in the list, one at a time."
      ],
      "metadata": {
        "id": "s8mS5Cr-IcVT"
      }
    },
    {
      "cell_type": "code",
      "source": [
        "# Store a few friend names\n",
        "friend_names = ['John','Josh','Charlie','Jack','Max']\n",
        "print(friend_names)\n",
        "print(\"\\n\")\n",
        "print(f\"These are my friend Name:\")\n",
        "print(friend_names)"
      ],
      "metadata": {
        "colab": {
          "base_uri": "https://localhost:8080/"
        },
        "id": "KWF-3x_ZIuzC",
        "outputId": "4f685174-ad1a-4866-a62c-cf9962cabd62"
      },
      "execution_count": null,
      "outputs": [
        {
          "output_type": "stream",
          "name": "stdout",
          "text": [
            "['John', 'Josh', 'Charlie', 'Jack', 'Max']\n",
            "\n",
            "\n",
            "These are my friend Name:\n",
            "['John', 'Josh', 'Charlie', 'Jack', 'Max']\n"
          ]
        }
      ]
    },
    {
      "cell_type": "markdown",
      "source": [
        "# Exercise-2: Greetings\n",
        "Start with the list you used in Exercise 3-1, but instead of just printing each person’s name, print a message to them. The text of each message should be the same, but each message should be personalized with the person’s name."
      ],
      "metadata": {
        "id": "gIFXKjaWItVs"
      }
    },
    {
      "cell_type": "code",
      "source": [
        "# Store a few friend names\n",
        "friend_names = ['John','Josh','Charlie','Jack','Max']\n",
        "# Call each friend individually- Use for Loop\n",
        "for friend in friend_names:\n",
        "  print(f\"Hello, {friend}, How are doing bro?\")"
      ],
      "metadata": {
        "colab": {
          "base_uri": "https://localhost:8080/"
        },
        "id": "Cqk8ldNAIzv9",
        "outputId": "9eb4b1b8-055d-4f46-ca42-720ff1c2ac28"
      },
      "execution_count": null,
      "outputs": [
        {
          "output_type": "stream",
          "name": "stdout",
          "text": [
            "Hello, John, How are doing bro?\n",
            "Hello, Josh, How are doing bro?\n",
            "Hello, Charlie, How are doing bro?\n",
            "Hello, Jack, How are doing bro?\n",
            "Hello, Max, How are doing bro?\n"
          ]
        }
      ]
    },
    {
      "cell_type": "markdown",
      "source": [
        "# Exercise_03: Guest List\n",
        "If you could invite anyone, living or deceased, to dinner, who would you invite? Make a list that includes at least three people you’d like to invite to dinner. Then use your list to print a message to each person, inviting them to dinner."
      ],
      "metadata": {
        "id": "eDYjMjvTI0d1"
      }
    },
    {
      "cell_type": "code",
      "source": [
        "# MAKE LIST OF PEOPLE FOR THE DINNER INVITATION FROM MY SIDE\n",
        "Guest_list = ['John','Josh','Charlie','Jack','Max']\n",
        "print(\"Dinner Party Guest List:\")\n",
        "print(Guest_list)\n",
        "print(\"\\n\")\n",
        "# Use loop for message them individually\n",
        "for guest in Guest_list:\n",
        "  print(f\"Hello, dear {guest}, I would like to invite you for dinner at my home!\")\n",
        "\n"
      ],
      "metadata": {
        "colab": {
          "base_uri": "https://localhost:8080/"
        },
        "id": "p5QEscqqI7dd",
        "outputId": "a1d230fa-8596-44c4-ca06-4d997e3b0763"
      },
      "execution_count": null,
      "outputs": [
        {
          "output_type": "stream",
          "name": "stdout",
          "text": [
            "Dinner Party Guest List:\n",
            "['John', 'Josh', 'Charlie', 'Jack', 'Max']\n",
            "\n",
            "\n",
            "Hello, dear John, I would like to invite you for dinner at my home!\n",
            "Hello, dear Josh, I would like to invite you for dinner at my home!\n",
            "Hello, dear Charlie, I would like to invite you for dinner at my home!\n",
            "Hello, dear Jack, I would like to invite you for dinner at my home!\n",
            "Hello, dear Max, I would like to invite you for dinner at my home!\n"
          ]
        }
      ]
    },
    {
      "cell_type": "markdown",
      "source": [
        "# Exercise_04: Changing Guest List\n",
        "You just heard that one of your guests can’t make the dinner, so you need to send out a new set of invitations. You’ll have to think of someone else to invite.\n",
        "\n",
        "Start with your program from Exercise 3-4. Add a print statement at the end of your program stating the name of the guest who can’t make it.\n",
        "Modify your list, replacing the name of the guest who can’t make it with the name of the new person you are inviting.\n",
        "Print a second set of invitation messages, one for each person who is still in your list."
      ],
      "metadata": {
        "id": "cFg_woXjI8BF"
      }
    },
    {
      "cell_type": "code",
      "execution_count": null,
      "metadata": {
        "colab": {
          "base_uri": "https://localhost:8080/"
        },
        "id": "IHDTGSJbILbi",
        "outputId": "31d6dcb8-e8dd-475c-9893-3792b340ca0f"
      },
      "outputs": [
        {
          "output_type": "stream",
          "name": "stdout",
          "text": [
            "Dinner Party Guest List:\n",
            "['John', 'Josh', 'Charlie', 'Jack', 'Max']\n",
            "\n",
            "\n",
            "Hello, dear John, I would like to invite you for dinner at my home!\n",
            "Hello, dear Josh, I would like to invite you for dinner at my home!\n",
            "Hello, dear Charlie, I would like to invite you for dinner at my home!\n",
            "Hello, dear Jack, I would like to invite you for dinner at my home!\n",
            "Hello, dear Max, I would like to invite you for dinner at my home!\n",
            "\n",
            "\n",
            "Oh no, Josh could not join the dinner party\n",
            "\n",
            "\n",
            "This below list is our latest Guest name:\n",
            "['John', 'Josh', 'Charlie', 'Jack', 'Max', 'Pal Tosh']\n",
            "\n",
            "\n",
            "Hello, dear John, I would like to invite you for dinner at my home!\n",
            "Hello, dear Josh, I would like to invite you for dinner at my home!\n",
            "Hello, dear Charlie, I would like to invite you for dinner at my home!\n",
            "Hello, dear Jack, I would like to invite you for dinner at my home!\n",
            "Hello, dear Max, I would like to invite you for dinner at my home!\n",
            "Hello, dear Pal Tosh, I would like to invite you for dinner at my home!\n"
          ]
        }
      ],
      "source": [
        "# MAKE LIST OF PEOPLE FOR THE DINNER INVITATION FROM MY SIDE\n",
        "Guest_list = ['John','Josh','Charlie','Jack','Max']\n",
        "print(\"Dinner Party Guest List:\")\n",
        "print(Guest_list)\n",
        "print(\"\\n\")\n",
        "# Use loop for message them individually\n",
        "for guest in Guest_list:\n",
        "  print(f\"Hello, dear {guest}, I would like to invite you for dinner at my home!\")\n",
        "\n",
        "print(\"\\n\")\n",
        " # Notifacation about Guest\n",
        "print(f\"Oh no, {Guest_list[1]} could not join the dinner party\")\n",
        "# Remove him from the list\n",
        "del Guest_list\n",
        "\n",
        "# Let's add one person in his place\n",
        "Guest_list.append('Pal Tosh')\n",
        "print(\"\\n\")\n",
        "print(f\"This below list is our latest Guest name:\")\n",
        "print(Guest_list)\n",
        "\n",
        "print(\"\\n\")\n",
        "# Use loop for message them individually\n",
        "for guest in Guest_list:\n",
        "  print(f\"Hello, dear {guest}, I would like to invite you for dinner at my home!\")\n"
      ]
    },
    {
      "cell_type": "markdown",
      "source": [
        "# Exercise_05: More Guests\n",
        "You just found a bigger dinner table, so now more space is available. Think of three more guests to invite to dinner.\n",
        "\n",
        "Start with your program from Exercise 3-4 or Exercise 3-5. Add a print statement to the end of your program informing people that you found a bigger dinner table.\n",
        "Use insert() to add one new guest to the beginning of your list.\n",
        "Use insert() to add one new guest to the middle of your list.\n",
        "Use append() to add one new guest to the end of your list. Print a new set of invitation messages, one for each person in your list."
      ],
      "metadata": {
        "id": "Nv_tRelxJEEP"
      }
    },
    {
      "cell_type": "code",
      "source": [
        "# MAKE LIST OF PEOPLE FOR THE DINNER INVITATION FROM MY SIDE\n",
        "Guest_list = ['John','Josh','Charlie','Jack','Max']\n",
        "print(\"Dinner Party Guest List:\")\n",
        "print(Guest_list)\n",
        "print(\"\\n\")\n",
        "# Use loop for message them individually\n",
        "for guest in Guest_list:\n",
        "  print(f\"Hello, dear {guest}, I would like to invite you for dinner at my home!\")\n",
        "\n",
        "print(\"\\n\")\n",
        " # Notifacation about Guest\n",
        "print(f\"Oh no, {Guest_list[1]} could not join the dinner party\")\n",
        "# Remove him from the list\n",
        "del Guest_list[1]\n",
        "\n",
        "# Let's add one person in his place\n",
        "Guest_list.append('Pal Tosh')\n",
        "print(\"\\n\")\n",
        "print(f\"This below list is our latest Guest name:\")\n",
        "print(Guest_list)\n",
        "\n",
        "print(\"\\n\")\n",
        "# Use loop for message them individually\n",
        "for guest in Guest_list:\n",
        "  print(f\"Hello, dear {guest}, I would like to invite you for dinner at my home!\")\n",
        "\n",
        "Message_for_Guest = \"Hey, Everyone. There is a good news I got a bigger dinner table, so I could invite more people\"\n",
        "\n",
        "\n",
        "# Use insert() to add one new guest to the beginning of your list.\n",
        "Guest_list.insert(1,'Ed Shreen')\n",
        "\n",
        "# Use insert() to add one new guest to the middle of your list.\n",
        "Guest_list.insert(3,'Albert Ellis')\n",
        "\n",
        "# Use append() to add one new guest to the end of your list.\n",
        "Guest_list.append('Glasman Deal')\n",
        "\n",
        "# Print a new set of invitation messages, one for each person in your list.\n",
        "print(\"\\n\")\n",
        "for new_guest in Guest_list:\n",
        "  print(f\"Hello, dear {new_guest}, I would like to invite you for dinner at my home!\")\n"
      ],
      "metadata": {
        "id": "n5jsOEKfJKbW",
        "colab": {
          "base_uri": "https://localhost:8080/"
        },
        "outputId": "135577af-7450-40ce-ca14-0675a66f1f2a"
      },
      "execution_count": 18,
      "outputs": [
        {
          "output_type": "stream",
          "name": "stdout",
          "text": [
            "Dinner Party Guest List:\n",
            "['John', 'Josh', 'Charlie', 'Jack', 'Max']\n",
            "\n",
            "\n",
            "Hello, dear John, I would like to invite you for dinner at my home!\n",
            "Hello, dear Josh, I would like to invite you for dinner at my home!\n",
            "Hello, dear Charlie, I would like to invite you for dinner at my home!\n",
            "Hello, dear Jack, I would like to invite you for dinner at my home!\n",
            "Hello, dear Max, I would like to invite you for dinner at my home!\n",
            "\n",
            "\n",
            "Oh no, Josh could not join the dinner party\n",
            "\n",
            "\n",
            "This below list is our latest Guest name:\n",
            "['John', 'Charlie', 'Jack', 'Max', 'Pal Tosh']\n",
            "\n",
            "\n",
            "Hello, dear John, I would like to invite you for dinner at my home!\n",
            "Hello, dear Charlie, I would like to invite you for dinner at my home!\n",
            "Hello, dear Jack, I would like to invite you for dinner at my home!\n",
            "Hello, dear Max, I would like to invite you for dinner at my home!\n",
            "Hello, dear Pal Tosh, I would like to invite you for dinner at my home!\n",
            "\n",
            "\n",
            "Hello, dear John, I would like to invite you for dinner at my home!\n",
            "Hello, dear Ed Shreen, I would like to invite you for dinner at my home!\n",
            "Hello, dear Charlie, I would like to invite you for dinner at my home!\n",
            "Hello, dear Albert Ellis, I would like to invite you for dinner at my home!\n",
            "Hello, dear Jack, I would like to invite you for dinner at my home!\n",
            "Hello, dear Max, I would like to invite you for dinner at my home!\n",
            "Hello, dear Pal Tosh, I would like to invite you for dinner at my home!\n",
            "Hello, dear Glasman Deal, I would like to invite you for dinner at my home!\n"
          ]
        }
      ]
    },
    {
      "cell_type": "markdown",
      "source": [
        "# Exercise_06: Shrinking Guest List\n",
        "You just found out that your new dinner table won’t arrive in time for the dinner, and you have space for only two guests.\n",
        "\n",
        "Start with your program from Exercise 3-6. Add a new line that prints a message saying that you can invite only two people for dinner.\n",
        "Use pop() to remove guests from your list one at a time until only two names remain in your list. Each time you pop a name from your list, print a message to that person letting them know you’re sorry you can’t invite them to dinner.\n",
        "Print a message to each of the two people still on your list, letting them know they’re still invited.\n",
        "Use del to remove the last two names from your list, so you have an empty list. Print your list to make sure you actually have an empty list at the end of your program."
      ],
      "metadata": {
        "id": "PsJzNTkSJKr3"
      }
    },
    {
      "cell_type": "code",
      "source": [
        "from os import remove\n",
        "# Print message about only being able to invite two people\n",
        "print(\"I can invite only two people for dinner.\")\n",
        "\n",
        "# Use pop() to remove guests from your list one at a time until only two names remain in your list.\n",
        "#Each time you pop a name from your list, print a message to that person letting them know you’re sorry you can’t invite them to dinner.\n",
        "while len(Guest_list) > 2:\n",
        "  remove_guest = Guest_list.pop()\n",
        "  print(f\"Sorry,{remove_guest} I could not invite to for dinner.\")\n",
        "\n",
        "Final_Message = \"Hey, Guys sorry I only could invite two people for the dinner because my dinner table won't arrive on time.\"\n",
        "print(Final_Message)\n",
        "\n",
        "# Show the two remaining guests\n",
        "print(\"Guests still Invited:\", Guest_list)\n",
        "\n",
        "# Use del to remove the last two names from your list\n",
        "del Guest_list[1]\n",
        "del Guest_list[0]\n",
        "\n",
        "print(Guest_list)\n",
        "\n",
        "\n"
      ],
      "metadata": {
        "id": "YBxrz5AeJTro",
        "colab": {
          "base_uri": "https://localhost:8080/"
        },
        "outputId": "662d6811-5085-4735-b442-ee76f856d1b0"
      },
      "execution_count": 19,
      "outputs": [
        {
          "output_type": "stream",
          "name": "stdout",
          "text": [
            "I can invite only two people for dinner.\n",
            "Sorry,Glasman Deal I could not invite to for dinner.\n",
            "Sorry,Pal Tosh I could not invite to for dinner.\n",
            "Sorry,Max I could not invite to for dinner.\n",
            "Sorry,Jack I could not invite to for dinner.\n",
            "Sorry,Albert Ellis I could not invite to for dinner.\n",
            "Sorry,Charlie I could not invite to for dinner.\n",
            "Hey, Guys sorry I only could invite two people for the dinner because my dinner table won't arrive on time.\n",
            "Guests still Invited: ['John', 'Ed Shreen']\n",
            "[]\n"
          ]
        }
      ]
    },
    {
      "cell_type": "markdown",
      "source": [
        "*len() is a built-in Python function that returns the number of items in a collection — such as a list, string, tuple, dictionary, etc. *"
      ],
      "metadata": {
        "id": "i_fdOaqLseIy"
      }
    },
    {
      "cell_type": "markdown",
      "source": [
        "# Exercise_07: Seeing the World\n",
        "Think of at least five places in the world you’d like to visit.\n",
        "\n",
        "Store the locations in a list. Make sure the list is not in alphabetical order.\n",
        "Print your list in its original order. Don’t worry about printing the list neatly, just print it as a raw Python list.\n",
        "Use sorted() to print your list in alphabetical order without modifying the actual list.\n",
        "Show that your list is still in its original order by printing it.\n",
        "Use sorted() to print your list in reverse alphabetical order without changing the order of the original list.\n",
        "Show that your list is still in its original order by printing it again.\n",
        "Use reverse() to change the order of your list. Print the list to show that its order has changed.\n",
        "Use reverse() to change the order of your list again. Print the list to show it’s back to its original order.\n",
        "Use sort() to change your list so it’s stored in alphabetical order. Print the list to show that its order has been changed.\n",
        "Use sort() to change your list so it’s stored in reverse alphabetical order. Print the list to show that its order has changed."
      ],
      "metadata": {
        "id": "dPOQZXRGJUJS"
      }
    },
    {
      "cell_type": "code",
      "source": [
        "# Think of at least five places in the world would like to visit.\n",
        "Places = ['Ghent', 'Astrakhan', 'Almaty', 'Omis', 'Jaffna']\n",
        "\n",
        "# Print the list in its original order\n",
        "print(\"The five places I would like to visit:\", Places)\n",
        "\n",
        "# Use sorted() to print the list in alphabetical order without modifying the actual list.\n",
        "sorted_places = sorted(Places)\n",
        "print(\"Alphabetical order (without modifying the list):\", sorted_places)\n",
        "\n",
        "# Show that the list is still in its original order\n",
        "print(\"Original list still unchanged:\", Places)\n",
        "\n",
        "# Use reverse() to change the order of the list\n",
        "Places.reverse()\n",
        "print(\"List after reversing:\", Places)\n",
        "\n",
        "# Reverse again to return to the original order\n",
        "Places.reverse()\n",
        "print(\"List back to original order:\", Places)\n",
        "\n",
        "# Use sort() to change the list so it’s stored in alphabetical order\n",
        "Places.sort()\n",
        "print(\"List sorted alphabetically (permanent change):\", Places)\n",
        "\n",
        "# Use sort() again, but in reverse alphabetical order\n",
        "Places.sort(reverse=True)\n",
        "print(\"List sorted in reverse alphabetical order:\", Places)\n"
      ],
      "metadata": {
        "colab": {
          "base_uri": "https://localhost:8080/"
        },
        "id": "cxuYPoI5qP0O",
        "outputId": "6470c0e7-738c-4a78-fb7d-67c8c87e1d4a"
      },
      "execution_count": 35,
      "outputs": [
        {
          "output_type": "stream",
          "name": "stdout",
          "text": [
            "The five places I would like to visit: ['Ghent', 'Astrakhan', 'Almaty', 'Omis', 'Jaffna']\n",
            "Alphabetical order (without modifying the list): ['Almaty', 'Astrakhan', 'Ghent', 'Jaffna', 'Omis']\n",
            "Original list still unchanged: ['Ghent', 'Astrakhan', 'Almaty', 'Omis', 'Jaffna']\n",
            "List after reversing: ['Jaffna', 'Omis', 'Almaty', 'Astrakhan', 'Ghent']\n",
            "List back to original order: ['Ghent', 'Astrakhan', 'Almaty', 'Omis', 'Jaffna']\n",
            "List sorted alphabetically (permanent change): ['Almaty', 'Astrakhan', 'Ghent', 'Jaffna', 'Omis']\n",
            "List sorted in reverse alphabetical order: ['Omis', 'Jaffna', 'Ghent', 'Astrakhan', 'Almaty']\n"
          ]
        }
      ]
    }
  ]
}