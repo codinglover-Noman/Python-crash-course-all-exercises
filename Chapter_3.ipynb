{
  "nbformat": 4,
  "nbformat_minor": 0,
  "metadata": {
    "colab": {
      "provenance": []
    },
    "kernelspec": {
      "name": "python3",
      "display_name": "Python 3"
    },
    "language_info": {
      "name": "python"
    }
  },
  "cells": [
    {
      "cell_type": "markdown",
      "source": [
        "# Exercise_01:Pizzas\n",
        "\n",
        "Think of at least three kinds of your favorite pizza. Store these pizza names in a list, and then use a for loop to print the name of each pizza.\n",
        "    1. Modify your for loop to print a sentence using the name of the pizza instead of printing just the name of the pizza. For each pizza you should have one line of output containing a simple statement like I like pepperoni pizza.\n",
        "    2. Add a line at the end of your program, outside the for loop, that states how much you like pizza. The output should consist of three or more lines about the kinds of pizza you like and then an additional sentence, such as I really love pizza!\n"
      ],
      "metadata": {
        "id": "nNrl6ria5BGp"
      }
    },
    {
      "cell_type": "code",
      "source": [
        "# Think of at least three kinds of your favorite pizza.\n",
        "# Store these pizza names in a list\n",
        "Favorite_pizza = ['New York-style pizza', 'Sicilian', 'Neapolitan']\n",
        "\n",
        "# Use a for loop to print the name of each pizza\n",
        "print(\"Most favorite pizzas I like:\")\n",
        "\n",
        "for pizza in Favorite_pizza:\n",
        "    print(f\"I love to eat {pizza} whenever I go out with friends.\")\n",
        "\n",
        "# Add a line at the end of your program that states how much you like pizza\n",
        "Message_Pizza = \"I really like to eat these pizzas whenever I'm home and try to make them homemade.\"\n",
        "print(Message_Pizza)\n"
      ],
      "metadata": {
        "colab": {
          "base_uri": "https://localhost:8080/"
        },
        "id": "_RD3t35StyuV",
        "outputId": "f713635b-6052-441b-c27c-8ffc7f4c4d89"
      },
      "execution_count": 5,
      "outputs": [
        {
          "output_type": "stream",
          "name": "stdout",
          "text": [
            "Most favorite pizzas I like:\n",
            "I love to eat New York-style pizza whenever I go out with friends.\n",
            "I love to eat Sicilian whenever I go out with friends.\n",
            "I love to eat Neapolitan whenever I go out with friends.\n",
            "I really like to eat these pizzas whenever I'm home and try to make them homemade.\n"
          ]
        }
      ]
    },
    {
      "cell_type": "markdown",
      "source": [
        "# Exercise_02: Counting to Twenty\n",
        "\n",
        "Use a for loop to print the numbers from 1 to 20, inclusive."
      ],
      "metadata": {
        "id": "Sb6QqBav5SKl"
      }
    },
    {
      "cell_type": "code",
      "source": [
        "# Use a for loop to print the numbers from 1 to 20, inclusive\n",
        "for numbers in range(1,21):\n",
        "  print(numbers)"
      ],
      "metadata": {
        "colab": {
          "base_uri": "https://localhost:8080/"
        },
        "id": "FcHOXbP6wdXN",
        "outputId": "a189e338-5915-48c8-cab6-ff5a0f885ac9"
      },
      "execution_count": 7,
      "outputs": [
        {
          "output_type": "stream",
          "name": "stdout",
          "text": [
            "1\n",
            "2\n",
            "3\n",
            "4\n",
            "5\n",
            "6\n",
            "7\n",
            "8\n",
            "9\n",
            "10\n",
            "11\n",
            "12\n",
            "13\n",
            "14\n",
            "15\n",
            "16\n",
            "17\n",
            "18\n",
            "19\n",
            "20\n"
          ]
        }
      ]
    },
    {
      "cell_type": "markdown",
      "source": [
        "# Exercise_03: Summing a Million\n",
        "\n",
        "Make a list of the numbers from one to one million, and then use min() and max() to make sure your list actually starts at one and ends at one million. Also, use the sum() function to see how quickly Python can add a million numbers."
      ],
      "metadata": {
        "id": "KqqYwwwv5hag"
      }
    },
    {
      "cell_type": "code",
      "source": [
        "# Make a list of the numbers from one to one million\n",
        "million_number = list(range(1, 1_000_001))\n",
        "\n",
        "\"\"\"\n",
        "Then use min() and max() to make sure your list actually starts\n",
        "at one and ends at one million. Also, use the sum() function to\n",
        "see how quickly Python can add a million numbers.\n",
        "\"\"\"\n",
        "print(\"The number one to one million details:\")\n",
        "print(\"Minimum number:\", min(million_number))\n",
        "print(\"Maximum number:\", max(million_number))\n",
        "print(\"Sum of all numbers:\", sum(million_number))\n"
      ],
      "metadata": {
        "colab": {
          "base_uri": "https://localhost:8080/"
        },
        "id": "ec0VhZpExMSh",
        "outputId": "7feff83a-f08e-4fe8-b251-9068f049bab9"
      },
      "execution_count": 10,
      "outputs": [
        {
          "output_type": "stream",
          "name": "stdout",
          "text": [
            "The number one to one million details:\n",
            "Minimum number: 1\n",
            "Maximum number: 1000000\n",
            "Sum of all numbers: 500000500000\n"
          ]
        }
      ]
    },
    {
      "cell_type": "markdown",
      "source": [
        "# Exercise_04:Threes\n",
        "\n",
        "Make a list of the multiples of 3 from 3 to 0. Use a for loop to print the numbers in your list."
      ],
      "metadata": {
        "id": "IiKW1ZSe5HdG"
      }
    },
    {
      "cell_type": "code",
      "source": [
        "# Make a list of the multiples of 3 from 3 to 0\n",
        "multiples_of_3 = list(range(3, -1, -3))\n",
        "\n",
        "# Use a for loop to print the numbers in your list\n",
        "for number in multiples_of_3:\n",
        "    print(number)\n"
      ],
      "metadata": {
        "colab": {
          "base_uri": "https://localhost:8080/"
        },
        "id": "ZDHJvN7_zi9c",
        "outputId": "adfa4e3b-4192-4931-81bd-5b3f82bcea97"
      },
      "execution_count": 11,
      "outputs": [
        {
          "output_type": "stream",
          "name": "stdout",
          "text": [
            "3\n",
            "0\n"
          ]
        }
      ]
    },
    {
      "cell_type": "markdown",
      "source": [
        "# Exercise_05:Cubes\n",
        "\n",
        "A number raised to the third power is called a cube. For example, the cube of 2 is written as 2**3 in Python. Make a list of the first 10 cubes (that is, the cube of each integer from 1 through 10), and use a for loop to print out the value of each cube."
      ],
      "metadata": {
        "id": "_VEqajNB6HM8"
      }
    },
    {
      "cell_type": "code",
      "source": [
        "# Make a list of the first 10 cubes using for loop\n",
        "for cubes in range(1,11):\n",
        "  cube = cubes ** 3\n",
        "  print(f\"The cube of {cubes} is {cube}\")\n"
      ],
      "metadata": {
        "colab": {
          "base_uri": "https://localhost:8080/"
        },
        "id": "iGgkT-3h5fd6",
        "outputId": "9731f79a-cc6c-420d-a327-bcb6a0cf6cd8"
      },
      "execution_count": 16,
      "outputs": [
        {
          "output_type": "stream",
          "name": "stdout",
          "text": [
            "The cube of 1 is 1\n",
            "The cube of 2 is 8\n",
            "The cube of 3 is 27\n",
            "The cube of 4 is 64\n",
            "The cube of 5 is 125\n",
            "The cube of 6 is 216\n",
            "The cube of 7 is 343\n",
            "The cube of 8 is 512\n",
            "The cube of 9 is 729\n",
            "The cube of 10 is 1000\n"
          ]
        }
      ]
    },
    {
      "cell_type": "markdown",
      "source": [
        "# Exercise_06: Cube Comprehension\n",
        "\n",
        "Use a list comprehension to generate a list of the first 10 cubes."
      ],
      "metadata": {
        "id": "XJ79pT-P6O7o"
      }
    },
    {
      "cell_type": "code",
      "source": [
        "# Use a list comprehension to generate a list of the first 10 cubes\n",
        "cubes = [n ** 3 for n in range(1, 11)]\n",
        "\n",
        "print(cubes)\n"
      ],
      "metadata": {
        "colab": {
          "base_uri": "https://localhost:8080/"
        },
        "id": "IXzEPuTv77ZF",
        "outputId": "0e218c4a-361f-4624-fae0-691dde459330"
      },
      "execution_count": 17,
      "outputs": [
        {
          "output_type": "stream",
          "name": "stdout",
          "text": [
            "[1, 8, 27, 64, 125, 216, 343, 512, 729, 1000]\n"
          ]
        }
      ]
    },
    {
      "cell_type": "markdown",
      "source": [
        "# Exercise_07: My Pizzas, Your Pizzas\n",
        "\n",
        "Start with your program from Exercise 4-1 (page 60). Make a copy of the list of pizzas, and call it friend_pizzas. Then, do the following:\n",
        "Add a new pizza to the original list. Add a different pizza to the list friend_pizzas. Prove that you have two separate lists. Print the message, My favorite pizzas are:, and then use a for loop to print the first list. Print the message, My friend’s favorite pizzas are:, and then use a for loop to print the second list. Make sure each new pizza is stored in the appropriate list.\n"
      ],
      "metadata": {
        "id": "3R_dlbDJ6YT6"
      }
    },
    {
      "cell_type": "code",
      "source": [
        "# My favorite pizza list\n",
        "Favorite_pizza = ['New York-style pizza', 'Sicilian', 'Neapolitan']\n",
        "\n",
        "# Make a copy for my friend\n",
        "friend_pizza = Favorite_pizza[:]  # This creates a separate list\n",
        "\n",
        "# Add a new pizza to the original list\n",
        "Favorite_pizza.append('Hawaiian Pizza')\n",
        "\n",
        "# Add a different pizza to my friend's list\n",
        "friend_pizza.append('Margherita Pizza')\n",
        "\n",
        "# Print my favorite pizzas\n",
        "print(\"My favorite pizzas are:\")\n",
        "for pizza in Favorite_pizza:\n",
        "    print(pizza)\n",
        "\n",
        "# Print my friend's favorite pizzas\n",
        "print(\"My friend's favorite pizzas are:\")\n",
        "for pizza in friend_pizza:\n",
        "    print(pizza)\n"
      ],
      "metadata": {
        "colab": {
          "base_uri": "https://localhost:8080/"
        },
        "id": "5n1maih69Bmv",
        "outputId": "0ac7a7cf-d093-4ac6-9bf8-11e7b32f5240"
      },
      "execution_count": 21,
      "outputs": [
        {
          "output_type": "stream",
          "name": "stdout",
          "text": [
            "My favorite pizzas are:\n",
            "New York-style pizza\n",
            "Sicilian\n",
            "Neapolitan\n",
            "Hawaiian Pizza\n",
            "My friend's favorite pizzas are:\n",
            "New York-style pizza\n",
            "Sicilian\n",
            "Neapolitan\n",
            "Margherita Pizza\n"
          ]
        }
      ]
    },
    {
      "cell_type": "markdown",
      "source": [
        "# Exercise_08: Buffet\n",
        "\n",
        "A buffet-style restaurant offers only five basic foods. Think of five simple foods, and store them in a tuple. Use a for loop to print each food the restaurant offers. Try to modify one of the items, and make sure that Python rejects the change. The restaurant changes its menu, replacing two of the items with different foods. Add a block of code that rewrites the tuple, and then use a for loop to print each of the items on the revised menu.\n"
      ],
      "metadata": {
        "id": "KPDZx42L6gT_"
      }
    },
    {
      "cell_type": "code",
      "source": [
        "# Think of five simple foods and store them in a tuple\n",
        "Food_list = ('sausage rolls', 'mini quiches', 'deviled eggs', 'cheese straws', 'chicken wings')\n",
        "\n",
        "# Use for loop to print each food the restaurant offers\n",
        "print(\"The buffet food list:\")\n",
        "for food in Food_list:\n",
        "    print(food)\n",
        "\n",
        "# Try to modify one of the items (Python will reject this)\n",
        "# Uncomment the line below to see the error\n",
        "# Food_list[0] = 'pigs in a blanket'  # ❌ TypeError\n",
        "\n",
        "# Restaurant changes its menu, replacing two of the items\n",
        "Update_list_food = ('sausage rolls', 'loaded potato skins', 'deviled eggs', 'charcuterie boards', 'chicken wings')\n",
        "\n",
        "print(\"\\nThe restaurant changes its menu, please check the latest list:\")\n",
        "for food in Update_list_food:\n",
        "    print(food)\n"
      ],
      "metadata": {
        "colab": {
          "base_uri": "https://localhost:8080/"
        },
        "id": "tm5GEtddCY2o",
        "outputId": "8f956491-c687-45db-b969-e9af214d8abb"
      },
      "execution_count": 26,
      "outputs": [
        {
          "output_type": "stream",
          "name": "stdout",
          "text": [
            "The buffet food list:\n",
            "sausage rolls\n",
            "mini quiches\n",
            "deviled eggs\n",
            "cheese straws\n",
            "chicken wings\n",
            "\n",
            "The restaurant changes its menu, please check the latest list:\n",
            "sausage rolls\n",
            "loaded potato skins\n",
            "deviled eggs\n",
            "charcuterie boards\n",
            "chicken wings\n"
          ]
        }
      ]
    }
  ]
}