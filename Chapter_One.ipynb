{
  "nbformat": 4,
  "nbformat_minor": 0,
  "metadata": {
    "colab": {
      "provenance": []
    },
    "kernelspec": {
      "name": "python3",
      "display_name": "Python 3"
    },
    "language_info": {
      "name": "python"
    }
  },
  "cells": [
    {
      "cell_type": "markdown",
      "source": [
        "# Exercise_01:\n",
        "Simple Messages\n",
        "## Assign a message to a variable, and print that message. Then change the value of your variable to a new message, and print the new message. **bold text**\n"
      ],
      "metadata": {
        "id": "1ZNTf-eciNG8"
      }
    },
    {
      "cell_type": "code",
      "execution_count": 1,
      "metadata": {
        "colab": {
          "base_uri": "https://localhost:8080/"
        },
        "id": "2iDzSeW1iG_m",
        "outputId": "5771598e-8111-4877-9c9b-e541309cc8e8"
      },
      "outputs": [
        {
          "output_type": "stream",
          "name": "stdout",
          "text": [
            "Hello, Python!\n",
            "Today weather, it's really beautiful feel the heart\n"
          ]
        }
      ],
      "source": [
        "message = \"Hello, Python!\"\n",
        "\n",
        "print(message)\n",
        "\n",
        "message_2 = \"Today weather, it's really beautiful feel the heart\"\n",
        "\n",
        "print(message_2)"
      ]
    },
    {
      "cell_type": "markdown",
      "source": [
        "# Exercise_02: Famous Quote\n",
        "Find a quote from a famous person you admire. Print the quote and the name of its author. Your output should look something like the following, including the quotation marks:\n",
        "\n",
        "Albert Einstein once said, “A person who never made a mistake never tried anything new.”"
      ],
      "metadata": {
        "id": "hRF9We_li4be"
      }
    },
    {
      "cell_type": "code",
      "source": [
        "# Assign a variable with a quote from a famous person\n",
        "quote = \"Kahlil Gibran once said, 'If you love somebody, let them go; for if they return, they were always yours. If they don't, they never were.'\"\n",
        "\n",
        "print(quote)"
      ],
      "metadata": {
        "colab": {
          "base_uri": "https://localhost:8080/"
        },
        "id": "mjE6w3Qgi_KN",
        "outputId": "89de35a6-bbe0-4258-da50-6bf8a5d940ab"
      },
      "execution_count": 2,
      "outputs": [
        {
          "output_type": "stream",
          "name": "stdout",
          "text": [
            "Kahlil Gibran once said, 'If you love somebody, let them go; for if they return, they were always yours. If they don't, they never were.'\n"
          ]
        }
      ]
    },
    {
      "cell_type": "markdown",
      "source": [
        "# Exercise_03: Stripping Names\n",
        "Use a variable to represent a person’s name, and include some whitespace characters at the beginning and end of the name. Make sure you use each character combination, “\\t” and “\\n”, at least once.\n",
        "\n",
        "Print the name once, so the whitespace around the name is displayed. Then print the name using each of the three stripping functions, lstrip(), rstrip(), and strip()."
      ],
      "metadata": {
        "id": "QqcYKu13jMa_"
      }
    },
    {
      "cell_type": "code",
      "source": [
        "# Assign a varibale of person whith whitespace\n",
        "Person_Name = \"\\tAston Hall\\n\"\n",
        "\n",
        "print(f\"Person Name:{Person_Name}, With Whitespace\")\n",
        "print(\"\\n\")\n",
        "\n",
        "print(\"With lstrip():\")\n",
        "print(Person_Name.lstrip())\n",
        "\n",
        "print(\"\\nWith rstrip():\")\n",
        "print(Person_Name.rstrip())\n",
        "\n",
        "print(\"\\nWith strip():\")\n",
        "print(Person_Name.strip())\n"
      ],
      "metadata": {
        "colab": {
          "base_uri": "https://localhost:8080/"
        },
        "id": "VQe5QEo3jStX",
        "outputId": "6a16f42d-1f63-4f18-dec7-b309dd68eb43"
      },
      "execution_count": 3,
      "outputs": [
        {
          "output_type": "stream",
          "name": "stdout",
          "text": [
            "Person Name:\tAston Hall\n",
            ", With Whitespace\n",
            "\n",
            "\n",
            "With lstrip():\n",
            "Aston Hall\n",
            "\n",
            "\n",
            "With rstrip():\n",
            "\tAston Hall\n",
            "\n",
            "With strip():\n",
            "Aston Hall\n"
          ]
        }
      ]
    },
    {
      "cell_type": "markdown",
      "source": [
        "# Exercise_04: Favorite Number\n",
        "Use a variable to represent your favorite number. Then, using that variable, create a message that reveals your favorite number. Print that message."
      ],
      "metadata": {
        "id": "cnp48AYRkpqv"
      }
    },
    {
      "cell_type": "code",
      "source": [
        "favorite_number = int(input(\"Enter your favorite Number: \"))\n",
        "\n",
        "print(f\"My favorite number is {favorite_number}, How about you guys?\")\n"
      ],
      "metadata": {
        "colab": {
          "base_uri": "https://localhost:8080/"
        },
        "id": "7D9rMZeOkv_g",
        "outputId": "8ac02dd6-a79d-4114-8837-23d740625b5f"
      },
      "execution_count": 4,
      "outputs": [
        {
          "output_type": "stream",
          "name": "stdout",
          "text": [
            "Enter your favorite Number: 7\n",
            "My favorite number is 7, How about you guys?\n"
          ]
        }
      ]
    }
  ]
}